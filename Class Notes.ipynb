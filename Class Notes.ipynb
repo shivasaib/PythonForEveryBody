{
 "cells": [
  {
   "cell_type": "markdown",
   "metadata": {},
   "source": [
    "# PROGRAMMING FOR EVERYBODY PYTHON -COURSERA BY UNIVERSITY OF MICHIGAN"
   ]
  },
  {
   "cell_type": "markdown",
   "metadata": {},
   "source": [
    "### Course 1 : (Getting Started with Python)\n"
   ]
  },
  {
   "cell_type": "markdown",
   "metadata": {},
   "source": [
    "## Print statement"
   ]
  },
  {
   "cell_type": "code",
   "execution_count": 1,
   "metadata": {},
   "outputs": [
    {
     "name": "stdout",
     "output_type": "stream",
     "text": [
      "my first print statement\n"
     ]
    }
   ],
   "source": [
    "print(\"my first print statement\")"
   ]
  },
  {
   "cell_type": "code",
   "execution_count": null,
   "metadata": {},
   "outputs": [],
   "source": []
  },
  {
   "cell_type": "markdown",
   "metadata": {},
   "source": [
    "## Expressions"
   ]
  },
  {
   "cell_type": "code",
   "execution_count": 8,
   "metadata": {},
   "outputs": [],
   "source": [
    "# Converting europe floor to us"
   ]
  },
  {
   "cell_type": "code",
   "execution_count": 9,
   "metadata": {},
   "outputs": [
    {
     "name": "stdout",
     "output_type": "stream",
     "text": [
      "enter europe floor ? 0\n"
     ]
    }
   ],
   "source": [
    "inp = input(\"enter europe floor ? \")"
   ]
  },
  {
   "cell_type": "code",
   "execution_count": 10,
   "metadata": {},
   "outputs": [],
   "source": [
    "usf = int(inp)+1"
   ]
  },
  {
   "cell_type": "code",
   "execution_count": 11,
   "metadata": {},
   "outputs": [
    {
     "name": "stdout",
     "output_type": "stream",
     "text": [
      "Europe 0 floor is equal to US  1 floor\n"
     ]
    }
   ],
   "source": [
    "print(\"Europe\",inp,\"floor\",\"is equal to US \",usf,\"floor\")"
   ]
  },
  {
   "cell_type": "code",
   "execution_count": 12,
   "metadata": {},
   "outputs": [
    {
     "data": {
      "text/plain": [
       "5.0"
      ]
     },
     "execution_count": 12,
     "metadata": {},
     "output_type": "execute_result"
    }
   ],
   "source": [
    "x = 1 + 2 * 3 - 8 / 4\n",
    "x"
   ]
  },
  {
   "cell_type": "code",
   "execution_count": 13,
   "metadata": {},
   "outputs": [
    {
     "data": {
      "text/plain": [
       "98"
      ]
     },
     "execution_count": 13,
     "metadata": {},
     "output_type": "execute_result"
    }
   ],
   "source": [
    "x = int(98.6)\n",
    "x"
   ]
  },
  {
   "cell_type": "code",
   "execution_count": null,
   "metadata": {},
   "outputs": [],
   "source": []
  },
  {
   "cell_type": "code",
   "execution_count": 7,
   "metadata": {},
   "outputs": [],
   "source": [
    "# For Loop"
   ]
  },
  {
   "cell_type": "code",
   "execution_count": 8,
   "metadata": {},
   "outputs": [],
   "source": [
    "# to find largest number in a list"
   ]
  },
  {
   "cell_type": "code",
   "execution_count": 31,
   "metadata": {},
   "outputs": [],
   "source": [
    "my_list = [5,65,23,85,95,13,6]\n",
    "largest_so_far = None"
   ]
  },
  {
   "cell_type": "code",
   "execution_count": 32,
   "metadata": {},
   "outputs": [
    {
     "name": "stdout",
     "output_type": "stream",
     "text": [
      "5\n",
      "5 5\n",
      "65 65\n",
      "65 23\n",
      "85 85\n",
      "95 95\n",
      "95 13\n",
      "95 6\n",
      "After 95\n"
     ]
    }
   ],
   "source": [
    "\n",
    "for item in my_list :\n",
    "    if largest_so_far is None:\n",
    "        largest_so_far = item\n",
    "        print(largest_so_far)\n",
    "        \n",
    "    elif item > largest_so_far:\n",
    "        largest_so_far = item\n",
    "    print(largest_so_far,item)\n",
    "print(\"After\",largest_so_far)"
   ]
  },
  {
   "cell_type": "code",
   "execution_count": 33,
   "metadata": {},
   "outputs": [],
   "source": [
    "## Count the items in a list"
   ]
  },
  {
   "cell_type": "code",
   "execution_count": 34,
   "metadata": {},
   "outputs": [
    {
     "name": "stdout",
     "output_type": "stream",
     "text": [
      "1 5\n",
      "2 65\n",
      "3 23\n",
      "4 85\n",
      "5 95\n",
      "6 13\n",
      "7 6\n",
      "Total count 7\n"
     ]
    }
   ],
   "source": [
    "count = 0\n",
    "for i in my_list:\n",
    "    count+=1\n",
    "    print(count,i)\n",
    "print(\"Total count\",count)"
   ]
  },
  {
   "cell_type": "code",
   "execution_count": 35,
   "metadata": {},
   "outputs": [],
   "source": [
    "# Summinng in a loop"
   ]
  },
  {
   "cell_type": "code",
   "execution_count": 36,
   "metadata": {},
   "outputs": [
    {
     "name": "stdout",
     "output_type": "stream",
     "text": [
      "total sum is  292\n"
     ]
    }
   ],
   "source": [
    "total =0\n",
    "for item in my_list:\n",
    "    total +=item\n",
    "print(\"total sum is \",total)"
   ]
  },
  {
   "cell_type": "code",
   "execution_count": 37,
   "metadata": {},
   "outputs": [],
   "source": [
    "## Average"
   ]
  },
  {
   "cell_type": "code",
   "execution_count": 38,
   "metadata": {},
   "outputs": [
    {
     "name": "stdout",
     "output_type": "stream",
     "text": [
      "Sum of 7 items in the list  is : 292\n",
      "Average of  7 items is  41.714285714285715\n"
     ]
    }
   ],
   "source": [
    "count =0\n",
    "sum =0\n",
    "for item in my_list:\n",
    "    count+=1\n",
    "    sum +=item\n",
    "    \n",
    "print(\"Sum of\",count,\"items in the list  is :\",sum)\n",
    "print(\"Average of \",count,\"items is \",sum/count)"
   ]
  },
  {
   "cell_type": "code",
   "execution_count": 39,
   "metadata": {},
   "outputs": [],
   "source": [
    "# searching using a Boolean variable"
   ]
  },
  {
   "cell_type": "code",
   "execution_count": 40,
   "metadata": {},
   "outputs": [
    {
     "name": "stdout",
     "output_type": "stream",
     "text": [
      "False 6\n"
     ]
    }
   ],
   "source": [
    "found = False\n",
    "for item in my_list:\n",
    "    if item == 75:\n",
    "        found = True\n",
    "        break\n",
    "print(found, item)"
   ]
  },
  {
   "cell_type": "code",
   "execution_count": 42,
   "metadata": {},
   "outputs": [],
   "source": [
    "# to search smallest value in a list "
   ]
  },
  {
   "cell_type": "code",
   "execution_count": 44,
   "metadata": {},
   "outputs": [],
   "source": [
    "smallest_so_far = None  # None type "
   ]
  },
  {
   "cell_type": "code",
   "execution_count": 46,
   "metadata": {},
   "outputs": [
    {
     "name": "stdout",
     "output_type": "stream",
     "text": [
      "1 1\n",
      "Smallest number 1\n"
     ]
    }
   ],
   "source": [
    "\n",
    "for number in [5,65,23,85,95,1,6]:\n",
    "    if smallest_so_far is None:\n",
    "        smallest_so_far = number\n",
    "    elif number < smallest_so_far:\n",
    "        smallest_so_far = number \n",
    "        print(number,smallest_so_far)\n",
    "print(\"Smallest number\",smallest_so_far)\n"
   ]
  },
  {
   "cell_type": "code",
   "execution_count": 54,
   "metadata": {},
   "outputs": [
    {
     "name": "stdout",
     "output_type": "stream",
     "text": [
      "<class 'int'>\n",
      "<class 'int'>\n"
     ]
    }
   ],
   "source": [
    "smallest = None\n",
    "value =1\n",
    "if smallest is None :\n",
    "    \n",
    "    smallest = value\n",
    "    print(type(smallest))\n",
    "    print(type(value))"
   ]
  },
  {
   "cell_type": "code",
   "execution_count": null,
   "metadata": {},
   "outputs": [],
   "source": [
    "\n"
   ]
  },
  {
   "cell_type": "code",
   "execution_count": 55,
   "metadata": {},
   "outputs": [],
   "source": [
    "# Program for sum , count and avg \n"
   ]
  },
  {
   "cell_type": "code",
   "execution_count": 67,
   "metadata": {},
   "outputs": [],
   "source": [
    "total =0.0\n",
    "count =0"
   ]
  },
  {
   "cell_type": "code",
   "execution_count": 68,
   "metadata": {
    "scrolled": true
   },
   "outputs": [
    {
     "name": "stdout",
     "output_type": "stream",
     "text": [
      "enter a number :one\n",
      "Invalid input\n",
      "enter a number :1\n",
      "enter a number :10\n",
      "enter a number :1\n",
      "enter a number :done\n",
      "total : 12.0 Count: 3  Avg :  4.0\n"
     ]
    }
   ],
   "source": [
    "while True :\n",
    "    \n",
    "    user = input(\"enter a number :\")\n",
    "    if user == 'done':\n",
    "        break\n",
    "    try:\n",
    "        \n",
    "        user_num = float(user)\n",
    "    except:\n",
    "        print(\"Invalid input\")\n",
    "        continue\n",
    "        \n",
    "    total +=user_num\n",
    "    count+=1\n",
    "print(\"total :\",total,\"Count:\",count,\" Avg : \",total/count)"
   ]
  },
  {
   "cell_type": "code",
   "execution_count": null,
   "metadata": {},
   "outputs": [],
   "source": []
  },
  {
   "cell_type": "code",
   "execution_count": 69,
   "metadata": {},
   "outputs": [],
   "source": [
    "# Excercise  5.2"
   ]
  },
  {
   "cell_type": "markdown",
   "metadata": {},
   "source": [
    "5.2 Write a program that repeatedly prompts a user for integer numbers until the user enters 'done'.\n",
    "Once 'done' is entered, print out the largest and smallest of the numbers.\n",
    "If the user enters anything other than a valid number catch it with a try/except and put out an \n",
    "appropriate message and ignore the number. \n",
    "Enter 7, 2, bob, 10, and 4 and match the output below."
   ]
  },
  {
   "cell_type": "code",
   "execution_count": 70,
   "metadata": {},
   "outputs": [
    {
     "name": "stdout",
     "output_type": "stream",
     "text": [
      "Enter a number: 1\n",
      "Enter a number: 2\n",
      "Enter a number: bob\n",
      "Invalid input\n",
      "Enter a number: 10\n",
      "Enter a number: 54\n",
      "Enter a number: 0\n",
      "Enter a number: done\n",
      "Maximum is 54\n",
      "Minimum is 0\n"
     ]
    }
   ],
   "source": [
    "largest = None\n",
    "smallest = None\n",
    "while True:\n",
    "    num = input(\"Enter a number: \")\n",
    "    if num == \"done\" :\n",
    "        break\n",
    "    try:\n",
    "        user_num = int(num)\n",
    "    except:\n",
    "        print(\"Invalid input\")\n",
    "        continue\n",
    "    \n",
    "    if smallest is None:\n",
    "        smallest = user_num\n",
    "    elif user_num < smallest :\n",
    "        smallest = user_num\n",
    "        \n",
    "    if largest is None:\n",
    "        largest = user_num\n",
    "    elif user_num > largest:\n",
    "        largest = user_num\n",
    "  \n",
    "    \n",
    "    \n",
    "\n",
    "print(\"Maximum is\",largest)\n",
    "print(\"Minimum is\",smallest)"
   ]
  },
  {
   "cell_type": "code",
   "execution_count": null,
   "metadata": {},
   "outputs": [],
   "source": []
  }
 ],
 "metadata": {
  "kernelspec": {
   "display_name": "Python 3",
   "language": "python",
   "name": "python3"
  },
  "language_info": {
   "codemirror_mode": {
    "name": "ipython",
    "version": 3
   },
   "file_extension": ".py",
   "mimetype": "text/x-python",
   "name": "python",
   "nbconvert_exporter": "python",
   "pygments_lexer": "ipython3",
   "version": "3.7.4"
  }
 },
 "nbformat": 4,
 "nbformat_minor": 2
}
